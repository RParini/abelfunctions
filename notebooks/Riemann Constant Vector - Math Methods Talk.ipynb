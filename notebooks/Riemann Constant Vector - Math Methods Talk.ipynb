{
 "metadata": {
  "name": "",
  "signature": "sha256:f2757776ddd29f804960bf532e6ea0f93edefe243beae1a1642abee850c250c8"
 },
 "nbformat": 3,
 "nbformat_minor": 0,
 "worksheets": [
  {
   "cells": [
    {
     "cell_type": "markdown",
     "metadata": {},
     "source": [
      "Computing the Riemann Constant Vector\n",
      "=====================================\n",
      "\n",
      "We use the Python software package [`abelfunctions`](http://abelfunctions.cswiercz.info) to compute with Riemann surfaces obtained via the desingularization and compactification of complex plane algebraic curves. `abelfunctions` is written by Chris Swierczewski ([cswiercz@uw.edu](mailto:cswiercz@uw.edu)).\n",
      "\n",
      "Throughout this notebook we use the genus 4 curve\n",
      "\n",
      "$$\n",
      "    f(x,y) = x^2y^3 - x^4 + 1\n",
      "$$\n",
      "\n",
      "as an example.\n",
      "\n",
      "The primary object in `abelfunctions` is \"`RiemannSurface`\"."
     ]
    },
    {
     "cell_type": "code",
     "collapsed": false,
     "input": [
      "%matplotlib inline\n",
      "\n",
      "from sympy.abc import x,y\n",
      "from abelfunctions import (RiemannSurface, RiemannTheta, Jacobian,\n",
      "                           RiemannConstantVector, puiseux, AbelMap)\n",
      "\n",
      "f = x**2*y**3 - x**4 + 1\n",
      "X = RiemannSurface(f,x,y)\n",
      "\n",
      "print X"
     ],
     "language": "python",
     "metadata": {},
     "outputs": []
    },
    {
     "cell_type": "markdown",
     "metadata": {},
     "source": [
      "Demo - Homology Basis\n",
      "=====================\n",
      "\n",
      "A canonical basis of cycles\n",
      "$$\n",
      "    H_1(X,\\mathbb{Z}) = \\{a_1, \\ldots, a_g, b_1, \\ldots, b_g\\}\n",
      "$$\n",
      "is computed using\n",
      "\n",
      "    X.a_cycles()\n",
      "    \n",
      "and\n",
      "    \n",
      "    X.b_cycles()."
     ]
    },
    {
     "cell_type": "code",
     "collapsed": false,
     "input": [
      "a = X.a_cycles()\n",
      "b = X.b_cycles()"
     ],
     "language": "python",
     "metadata": {},
     "outputs": []
    },
    {
     "cell_type": "code",
     "collapsed": false,
     "input": [
      "# plot the x- and y-projections of the first a-cycle using\n",
      "# 256 interpolating points\n",
      "figx = a[0].plot_x(256, color='b', linestyle='dashed', linewidth=2)\n",
      "figy = a[0].plot_y(256, color='g', linewidth=2)"
     ],
     "language": "python",
     "metadata": {},
     "outputs": []
    },
    {
     "cell_type": "code",
     "collapsed": false,
     "input": [
      "# plot in 3d with the path parameter, t, on the z-axis\n",
      "#\n",
      "# note that there are no self-intersections in the path\n",
      "elev = 50     # 50,-130\n",
      "azim = -130\n",
      "\n",
      "figx_3d = a[0].plot3d_x(256, color='blue', linewidth=2)\n",
      "ax = figx_3d.gca()\n",
      "ax.view_init(elev=elev, azim=azim)\n",
      "\n",
      "figy_3d = a[0].plot3d_y(256, color='green', linewidth=2)\n",
      "ax = figy_3d.gca()\n",
      "ax.view_init(elev=elev, azim=azim)"
     ],
     "language": "python",
     "metadata": {},
     "outputs": []
    },
    {
     "cell_type": "markdown",
     "metadata": {},
     "source": [
      "Demo - Basis of Abelian Differentials of the First Kind\n",
      "=======================================================\n",
      "\n",
      "**Note**: `abelfunctions` does not necessarily compute a *normalized* basis of holomorphic one-forms."
     ]
    },
    {
     "cell_type": "code",
     "collapsed": false,
     "input": [
      "omega = X.holomorphic_differentials()\n",
      "for omegai in omega:\n",
      "    print omegai"
     ],
     "language": "python",
     "metadata": {},
     "outputs": []
    },
    {
     "cell_type": "markdown",
     "metadata": {},
     "source": [
      "We can plot the value of the differentials along Riemann surface paths.\n",
      "* blue: real part\n",
      "* red: imaginary part\n",
      "\n",
      "Here we plot \n",
      "\n",
      "$$\n",
      "\\omega_1 = \\frac{1}{3x^2y^2} \\; dx\n",
      "$$\n",
      "\n",
      "along the first $a$-cycle."
     ]
    },
    {
     "cell_type": "code",
     "collapsed": false,
     "input": [
      "fig = omega[0].plot(a[0],256)"
     ],
     "language": "python",
     "metadata": {},
     "outputs": []
    },
    {
     "cell_type": "markdown",
     "metadata": {},
     "source": [
      "Demo - Riemann / Period Matrices\n",
      "================================\n",
      "\n",
      "Integrating each Abelian differential of the first kind basis element around each of the a- and b- cycles produces the *period matrix* of the Riemann surface\n",
      "\n",
      "$$\n",
      "A_{ij} = \\oint_{a_j} \\omega_i, \\quad B_{ij} = \\oint_{b_j} \\omega_i.\n",
      "$$\n",
      "\n",
      "The *Riemann matrix* of the surface is then determined by\n",
      "\n",
      "$$\n",
      "\\Omega = A^{-1}B \\in \\mathbb{C}^{g \\times g}.\n",
      "$$\n",
      "\n",
      "The Riemann matrix is symmetric and its imaginary part is positive definite."
     ]
    },
    {
     "cell_type": "code",
     "collapsed": false,
     "input": [
      "# for brevity, we only print the first four significant digits\n",
      "import numpy\n",
      "numpy.set_printoptions(precision=4, suppress=True)"
     ],
     "language": "python",
     "metadata": {},
     "outputs": []
    },
    {
     "cell_type": "code",
     "collapsed": false,
     "input": [
      "Omega = X.riemann_matrix()\n",
      "print Omega"
     ],
     "language": "python",
     "metadata": {},
     "outputs": []
    },
    {
     "cell_type": "code",
     "collapsed": false,
     "input": [
      "symmetric_error = numpy.linalg.norm(Omega - Omega.T)\n",
      "print symmetric_error"
     ],
     "language": "python",
     "metadata": {},
     "outputs": []
    },
    {
     "cell_type": "code",
     "collapsed": false,
     "input": [
      "imag_part_evals = numpy.linalg.eigvals(Omega.imag)\n",
      "print imag_part_evals"
     ],
     "language": "python",
     "metadata": {},
     "outputs": []
    },
    {
     "cell_type": "markdown",
     "metadata": {},
     "source": [
      "Demo - Places and Divisors\n",
      "==========================\n",
      "\n",
      "Places on a Riemann surface are given in terms of their Puiseux series. In this example, there is only one place on the surface \"over\" $x=0$ and three places \"over\" $x=2$. The places above two are \"regular\" in the sense that they lie above a non-discriminant point of the curve.\n",
      "\n",
      "To declare places on a Riemann surface use the notation\n",
      "\n",
      "```\n",
      "places = RiemannSurface(xprojection)\n",
      "```\n",
      "\n",
      "where `xprojection` is the x-projection of the places you want to construct. That is, we compute all places above a given $x =$ `xprojection`."
     ]
    },
    {
     "cell_type": "code",
     "collapsed": false,
     "input": [
      "places_above_zero = X(0)\n",
      "for P in places_above_zero:\n",
      "    print P"
     ],
     "language": "python",
     "metadata": {},
     "outputs": []
    },
    {
     "cell_type": "code",
     "collapsed": false,
     "input": [
      "P.puiseux_series.extend(10)"
     ],
     "language": "python",
     "metadata": {},
     "outputs": []
    },
    {
     "cell_type": "code",
     "collapsed": false,
     "input": [
      "print 'Places:'\n",
      "places_above_two = X(2)\n",
      "for P in places_above_two:\n",
      "    print P\n",
      "    \n",
      "print '\\nPuiseux series:'\n",
      "series_at_two = puiseux(f,x,y,2)\n",
      "for p in series_at_two:\n",
      "    print p"
     ],
     "language": "python",
     "metadata": {},
     "outputs": []
    },
    {
     "cell_type": "markdown",
     "metadata": {},
     "source": [
      "**Divisors:** Once you have some places you can constuct divisors using the usual operations / notation."
     ]
    },
    {
     "cell_type": "code",
     "collapsed": false,
     "input": [
      "P = places_above_zero[0]\n",
      "Q = places_above_two[0]\n",
      "\n",
      "D = 3*P + Q\n",
      "\n",
      "print 'Divisor:', D\n",
      "print 'Degree:', D.degree"
     ],
     "language": "python",
     "metadata": {},
     "outputs": []
    },
    {
     "cell_type": "markdown",
     "metadata": {},
     "source": [
      "Demo - The Abel Map\n",
      "===================\n",
      "\n",
      "The Abel map $A:X \\to J(X)$ is a map from a Riemann surface to its Jacobian defined component-wise by\n",
      "\n",
      "$$\n",
      "A_j(P,Q) = \\int_P^Q \\omega_j.\n",
      "$$\n",
      "\n",
      "In `abelfunctions` this is computed using\n",
      "\n",
      "    AbelMap(P,Q).\n",
      "\n",
      "A single argument $P$ given to `AbelMap` will compute $A(P_0,P)$ where $P_0$ is a pre-determined \"base place\" of the Riemann surface. All paths on the Riemann surface (including the homology basis) begin at this base place."
     ]
    },
    {
     "cell_type": "code",
     "collapsed": false,
     "input": [
      "J = Jacobian(X)\n",
      "z1 = AbelMap(P)\n",
      "z2 = AbelMap(Q)\n",
      "z3 = AbelMap(P,Q)\n",
      "\n",
      "print z1\n",
      "print z2\n",
      "print z3"
     ],
     "language": "python",
     "metadata": {},
     "outputs": []
    },
    {
     "cell_type": "code",
     "collapsed": false,
     "input": [
      "print X.base_place()"
     ],
     "language": "python",
     "metadata": {},
     "outputs": []
    },
    {
     "cell_type": "markdown",
     "metadata": {},
     "source": [
      "Numerically verify that $A(P,Q) = A(P_0,Q) - A(P_0,P)$:"
     ]
    },
    {
     "cell_type": "code",
     "collapsed": false,
     "input": [
      "print numpy.linalg.norm( J((z2-z1) - z3) )"
     ],
     "language": "python",
     "metadata": {},
     "outputs": []
    },
    {
     "cell_type": "markdown",
     "metadata": {},
     "source": [
      "Demo - Localizing Differentials at Places\n",
      "========================================="
     ]
    },
    {
     "cell_type": "code",
     "collapsed": false,
     "input": [
      "nu = omega[0]\n",
      "print nu"
     ],
     "language": "python",
     "metadata": {},
     "outputs": []
    },
    {
     "cell_type": "code",
     "collapsed": false,
     "input": [
      "P"
     ],
     "language": "python",
     "metadata": {},
     "outputs": []
    },
    {
     "cell_type": "code",
     "collapsed": false,
     "input": [
      "nu.localize(P)"
     ],
     "language": "python",
     "metadata": {},
     "outputs": []
    },
    {
     "cell_type": "code",
     "collapsed": false,
     "input": [
      "P_oo = X('oo')[0]\n",
      "P_oo.puiseux_series.extend(10)\n",
      "print P_oo"
     ],
     "language": "python",
     "metadata": {},
     "outputs": []
    },
    {
     "cell_type": "code",
     "collapsed": false,
     "input": [
      "nu.localize(P_oo)"
     ],
     "language": "python",
     "metadata": {},
     "outputs": []
    },
    {
     "cell_type": "markdown",
     "metadata": {},
     "source": [
      "Demo - Canonical Diviors\n",
      "========================\n",
      "\n",
      "Given an Abelian differential of the first kind you can compute its valuation divisor using the syntax\n",
      "\n",
      "    Differential.valuation_divisor()"
     ]
    },
    {
     "cell_type": "code",
     "collapsed": false,
     "input": [
      "C0 = omega[0].valuation_divisor()\n",
      "\n",
      "for place, multiplicity in C0:\n",
      "    print '\\nplace:       ', place\n",
      "    print 'multiplicity:', multiplicity\n",
      "    \n",
      "print '\\nDegree:', C0.degree"
     ],
     "language": "python",
     "metadata": {},
     "outputs": []
    },
    {
     "cell_type": "code",
     "collapsed": false,
     "input": [
      "C1 = omega[1].valuation_divisor()\n",
      "\n",
      "for place, multiplicity in C1:\n",
      "    print '\\nplace:       ', place\n",
      "    print 'multiplicity:', multiplicity\n",
      "    \n",
      "print '\\nDegree:', C1.degree"
     ],
     "language": "python",
     "metadata": {},
     "outputs": []
    },
    {
     "cell_type": "code",
     "collapsed": false,
     "input": [
      "C2 = omega[2].valuation_divisor()\n",
      "\n",
      "for place, multiplicity in C2:\n",
      "    print '\\nplace:       ', place\n",
      "    print 'multiplicity:', multiplicity\n",
      "    \n",
      "print '\\nDegree:', C0.degree"
     ],
     "language": "python",
     "metadata": {},
     "outputs": []
    },
    {
     "cell_type": "code",
     "collapsed": false,
     "input": [
      "C3 = omega[3].valuation_divisor()\n",
      "\n",
      "for place, multiplicity in C3:\n",
      "    print '\\nplace:       ', place\n",
      "    print 'multiplicity:', multiplicity\n",
      "    \n",
      "print '\\nDegree:', C3.degree"
     ],
     "language": "python",
     "metadata": {},
     "outputs": []
    },
    {
     "cell_type": "markdown",
     "metadata": {},
     "source": [
      "Demo - Riemann Constant Vector (RCV)\n",
      "====================================\n",
      "\n",
      "The function `RiemannConstantVector` is used to compute the Riemann constant vector on a Riemann surface. We make use of the fact\n",
      "\n",
      "$$\n",
      "    K(P) = K(P_0) + (g-1)A(P_0,P)\n",
      "$$\n",
      "\n",
      "to compute the RCV at various points. Most of the work is done in evaluating $K$ at the base place $P_0$ of the Riemann surface."
     ]
    },
    {
     "cell_type": "code",
     "collapsed": false,
     "input": [
      "K = RiemannConstantVector # alias the function for brevity"
     ],
     "language": "python",
     "metadata": {},
     "outputs": []
    },
    {
     "cell_type": "code",
     "collapsed": false,
     "input": [
      "P0 = X.base_place()\n",
      "print K(P0)"
     ],
     "language": "python",
     "metadata": {},
     "outputs": []
    },
    {
     "cell_type": "markdown",
     "metadata": {},
     "source": [
      "**Theorem:** Given a canonical divisor $\\mathcal{C}$\n",
      "\n",
      "$$\n",
      "2 K(P_0) + A(P_0, \\mathcal{C}) \\equiv 0.\n",
      "$$\n",
      "\n",
      "*Computational verification:*"
     ]
    },
    {
     "cell_type": "code",
     "collapsed": false,
     "input": [
      "C = omega[3].valuation_divisor()\n",
      "print 'Divisor:'\n",
      "print C\n",
      "\n",
      "print '\\nExpr:'\n",
      "z = J(2*K(P0) + AbelMap(C))\n",
      "print z"
     ],
     "language": "python",
     "metadata": {},
     "outputs": []
    },
    {
     "cell_type": "markdown",
     "metadata": {},
     "source": [
      "**Theorem:** Let $\\theta : J(X) \\times \\mathfrak{h}_g$ denote the Riemann theta function. Then\n",
      "\n",
      "$$\n",
      "\\theta(W,\\Omega) = 0\n",
      "$$\n",
      "\n",
      "if and only if\n",
      "\n",
      "$$\n",
      "W = K(P_0) + A(P_0, \\mathcal{D}).\n",
      "$$\n",
      "\n",
      "where $\\mathcal{D}$ is a degree $g-1$ divisor.\n",
      "\n",
      "*Computational verification:* we separate the \"exponential\" and \"oscillatory\" parts of the Riemann theta function (see DLMF)\n",
      "\n",
      "$$\n",
      "\\theta(W,\\Omega) = e^u v.\n",
      "$$\n",
      "\n",
      "Since $e^u$ never vanishes we only check for the vanishing of $v$ using the function `RiemannTheta.oscillatory_part()`."
     ]
    },
    {
     "cell_type": "code",
     "collapsed": false,
     "input": [
      "W = K(P0)\n",
      "v = RiemannTheta.oscillatory_part(W,Omega)\n",
      "print abs(v)"
     ],
     "language": "python",
     "metadata": {},
     "outputs": []
    },
    {
     "cell_type": "code",
     "collapsed": false,
     "input": [
      "D = sum(places_above_two)  # divisor of degree g-1 = 3\n",
      "W = J(AbelMap(D) + K(P0))\n",
      "v = RiemannTheta.oscillatory_part(W,Omega)\n",
      "print abs(v)"
     ],
     "language": "python",
     "metadata": {},
     "outputs": []
    },
    {
     "cell_type": "markdown",
     "metadata": {},
     "source": [
      "**Verifying output:** we evaluate the oscillatory part using each half-lattice vector and plot the resulting magnitues in ascending order."
     ]
    },
    {
     "cell_type": "code",
     "collapsed": false,
     "input": [
      "from abelfunctions.riemann_constant_vector import initialize_half_lattice_vectors\n",
      "\n",
      "# list every half-lattice vector\n",
      "h = initialize_half_lattice_vectors(X)\n",
      "\n",
      "# evaluate the abel map at the valuation divisor C\n",
      "AC = AbelMap(C)\n",
      "\n",
      "# evaluate the oscillatory part of theta at\n",
      "# each half-lattice vector minus the abel shift\n",
      "W = numpy.array([J(hi.T - 0.5*AC).flatten() for hi in h])\n",
      "v = RiemannTheta.oscillatory_part(W, Omega)\n",
      "v = numpy.array(v, dtype=numpy.complex)\n",
      "\n",
      "# compute the magnitues of the results and sort\n",
      "magnitudes = sorted(abs(v))\n",
      "print magnitudes[:3]"
     ],
     "language": "python",
     "metadata": {},
     "outputs": []
    },
    {
     "cell_type": "code",
     "collapsed": false,
     "input": [
      "%matplotlib inline\n",
      "\n",
      "import matplotlib.pyplot as plt\n",
      "\n",
      "fig = plt.figure()\n",
      "ax = fig.add_subplot(1,1,1)\n",
      "ax.semilogy(magnitudes, marker='d', markersize=16, color='gray')\n",
      "ax.axis([-32,256+32,1e-10,10])\n",
      "fig.set_figwidth(16)\n",
      "fig.set_figheight(8)"
     ],
     "language": "python",
     "metadata": {},
     "outputs": []
    },
    {
     "cell_type": "code",
     "collapsed": false,
     "input": [],
     "language": "python",
     "metadata": {},
     "outputs": []
    },
    {
     "cell_type": "markdown",
     "metadata": {},
     "source": [
      "Comments / Suggestions for `abelfunctions`?\n",
      "===========================================\n",
      "\n",
      "Please send an email to Chris Swierczewski ([cswiercz@uw.edu](mailto:cswiercz@uw.edu)) or leave an \"Issue\" on the `abelfunctions` Github page.\n",
      "\n",
      "> [http://github.com/cswiercz/abelfunctions](http://github.com/cswiercz/abelfunctions)"
     ]
    },
    {
     "cell_type": "code",
     "collapsed": false,
     "input": [],
     "language": "python",
     "metadata": {},
     "outputs": []
    }
   ],
   "metadata": {}
  }
 ]
}