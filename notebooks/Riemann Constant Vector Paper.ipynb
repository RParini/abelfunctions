{
 "cells": [
  {
   "cell_type": "markdown",
   "metadata": {},
   "source": [
    "# Computing the Riemann Constant Vector\n",
    "\n",
    "This iPython notebook contains the example code presented in the paper [Computing the Riemann Constant Vector](http://www.cswiercz.info/assets/files/rcv.pdf) by Bernard Deconinck, Matthew S. Patterson, and Chris Swierczewski.\n",
    "\n",
    "First, we construct the Riemann surface, $X$, defined by the plane algebraic curve\n",
    "\n",
    "$$\n",
    "f(x,y) = x^2 y^3 - x^4 + 1.\n",
    "$$\n",
    "\n",
    "We computationally determine its genus as well as a basis $\\{\\tilde{\\omega}_1, \\ldots, \\tilde{\\omega}_g\\}$ of Abelian differentials of the first kind, $\\Omega_X^1$, defined on the surface $X$."
   ]
  },
  {
   "cell_type": "code",
   "execution_count": 1,
   "metadata": {
    "collapsed": false
   },
   "outputs": [
    {
     "name": "stdout",
     "output_type": "stream",
     "text": [
      "differentials:\n",
      "1/3*x**2*y**2\n",
      "x/3*x**2*y**2\n",
      "x*y/3*x**2*y**2\n",
      "x**2/3*x**2*y**2\n",
      "genus: 4\n"
     ]
    }
   ],
   "source": [
    "from sympy.abc import x,y\n",
    "from abelfunctions import (RiemannSurface, RiemannTheta, Jacobian,\n",
    "                           AbelMap, RiemannConstantVector, puiseux)\n",
    "\n",
    "f = x**2*y**3 - x**4 + 1\n",
    "X = RiemannSurface(f,x,y)\n",
    "g = X.genus()\n",
    "omega = X.holomorphic_differentials()\n",
    "\n",
    "print 'differentials:'\n",
    "for omegai in omega:\n",
    "    print omegai\n",
    "print 'genus:', g"
   ]
  },
  {
   "cell_type": "markdown",
   "metadata": {},
   "source": [
    "Next, we compute a canonical basis of cycles $\\{a_1, \\ldots, a_g, b_1, \\ldots, b_g\\}$ of the first homology group $H_1(X, \\mathbb{Z})$. That is, every cycle on $X$ can be written as a linear combination of these cycles."
   ]
  },
  {
   "cell_type": "code",
   "execution_count": 2,
   "metadata": {
    "collapsed": false
   },
   "outputs": [
    {
     "data": {
      "image/png": "[encoded data removed]",
      "text/plain": [
       "<matplotlib.figure.Figure at 0x1044dc890>"
      ]
     },
     "metadata": {},
     "output_type": "display_data"
    },
    {
     "data": {
      "image/png": "[encoded data removed]",
      "text/plain": [
       "<matplotlib.figure.Figure at 0x1044dc4d0>"
      ]
     },
     "metadata": {},
     "output_type": "display_data"
    }
   ],
   "source": [
    "%matplotlib inline\n",
    "\n",
    "a = X.a_cycles()\n",
    "b = X.b_cycles()\n",
    "\n",
    "# use 256 points to plot the x- and y-parts of the path\n",
    "figx = a[0].plot_x(256, color='blue', linewidth=2, linestyle='dashed')\n",
    "figy = a[0].plot_y(256, color='green', linewidth=2)"
   ]
  },
  {
   "cell_type": "markdown",
   "metadata": {},
   "source": [
    "Using these data we can compute the period matrix of the surface:\n",
    "\n",
    "$$\n",
    "\\tau = [A \\; B] \\in \\mathbb{C}^{g \\times 2g}\n",
    "$$\n",
    "\n",
    "where\n",
    "\n",
    "$$\n",
    "A_{ij} = \\oint_{a_j} \\tilde{\\omega}_i, \\quad \\text{and} \\quad B_{ij} = \\oint_{a_j} \\tilde{\\omega}_i\n",
    "$$\n",
    "\n",
    "If using a *normalized* basis of differentials, $\\{\\omega_1, \\ldots, \\omega_g\\}$, the period matrix is of the form\n",
    "\n",
    "$$\n",
    "\\tau = [I \\; \\Omega] \\in \\mathbb{C}^{g \\times 2g}.\n",
    "$$\n",
    "\n",
    "This is equivalent to setting $\\Omega = A^{-1}B$ and, in fact, since Abelfunctions returns a non-normalized basis this is how the matrix $\\Omega$ is computed. We computationally verify that $\\Omega$ is a \"Riemann matrix\": a symmetric matrix with positive definite imaginary part."
   ]
  },
  {
   "cell_type": "code",
   "execution_count": 3,
   "metadata": {
    "collapsed": false
   },
   "outputs": [
    {
     "name": "stdout",
     "output_type": "stream",
     "text": [
      "[[ 0.2800+1.045j   0.2800-0.485j  -1.8100+1.045j   0.0000-0.j    ]\n",
      " [ 0.6625-1.1475j  0.6625+0.3825j -0.6625-1.1475j  0.0000+1.53j  ]\n",
      " [-0.8347+0.4819j -0.8347+0.4819j  0.8347-1.4457j  0.0000+1.9276j]\n",
      " [-1.0450+0.28j   -1.0450+1.81j   -0.4850+0.28j    0.0000+0.j    ]]\n",
      "\n",
      "[[-0.2800+0.485j   0.2800-1.045j   0.0000-2.09j    0.7650-1.325j ]\n",
      " [ 0.6625+0.3825j -0.6625+0.3825j  0.0000-0.765j   0.0000-1.53j  ]\n",
      " [-0.8347+0.4819j  0.8347-1.4457j  0.0000-0.9638j -1.6694-0.9638j]\n",
      " [ 1.0450-1.81j   -1.0450-0.28j   -0.0000-0.56j    0.7650-1.325j ]]\n",
      "\n",
      "[[ 0.3934+0.795j  -0.7541-0.3691j -0.4426-0.0284j  0.2049+0.2697j]\n",
      " [-0.7541-0.3691j  0.2787+0.8518j  0.0984+0.1988j -0.4344-0.1562j]\n",
      " [-0.4426-0.0284j  0.0984+0.1988j -0.3770+0.6815j -0.9180+0.4543j]\n",
      " [ 0.2049+0.2697j -0.4344-0.1562j -0.9180+0.4543j -1.2787+0.8802j]]\n"
     ]
    }
   ],
   "source": [
    "# for brevity, we only print the first four significant digits\n",
    "import numpy\n",
    "numpy.set_printoptions(precision=4, suppress=True)\n",
    "\n",
    "tau = X.period_matrix()\n",
    "A = tau[:g,:g]\n",
    "B = tau[:g,g:]\n",
    "Omega = X.riemann_matrix() # returns A**(-1)*B\n",
    "\n",
    "print A\n",
    "print\n",
    "print B\n",
    "print\n",
    "print Omega"
   ]
  },
  {
   "cell_type": "code",
   "execution_count": 4,
   "metadata": {
    "collapsed": false
   },
   "outputs": [
    {
     "name": "stdout",
     "output_type": "stream",
     "text": [
      "error: 3.54420172099e-10\n",
      "evals: [ 1.4038  1.1654  0.4294  0.21  ]\n"
     ]
    }
   ],
   "source": [
    "symmetric_error = numpy.linalg.norm(Omega - Omega.T)\n",
    "imag_part_evals = numpy.linalg.eigvals(Omega.imag)\n",
    "\n",
    "print 'error:', symmetric_error\n",
    "print 'evals:', imag_part_evals"
   ]
  },
  {
   "cell_type": "markdown",
   "metadata": {},
   "source": [
    "## Places and Divisors\n",
    "\n",
    "Places $P \\in X$ are represented using a Puiseux series. If $x$ and $y$ are the affine coordinates of the underlying curve $f$ then we write\n",
    "\n",
    "$$\n",
    "P =\n",
    "\\begin{cases}\n",
    "x(t) = \\alpha + \\lambda t^e \\\\\n",
    "y(t) = \\sum_i \\beta_i t^{n_i}\n",
    "\\end{cases}\n",
    "$$\n",
    "\n",
    "In the case when $e = 1$ (an \"unramified place\") and $x \\neq \\infty$ a place is synonymous with a tuple $(\\alpha, \\beta) \\in \\mathbb{C}^2$ such that $f(\\alpha, \\beta) = 0$.\n",
    "\n",
    "A divisor $\\mathcal{D}$ is a *formal sum* of places, $\\mathcal{D} = \\sum_i n_i P_i$, where each of the $n_i$ are the *multiplicities* of the places $P_i$ in the divisor. Below we compute local representation of several places on the Riemann surface and construct some divisors from them."
   ]
  },
  {
   "cell_type": "code",
   "execution_count": 5,
   "metadata": {
    "collapsed": false
   },
   "outputs": [
    {
     "name": "stdout",
     "output_type": "stream",
     "text": [
      "[(-t**3, -1/t**2 + O(1))]\n"
     ]
    }
   ],
   "source": [
    "places_above_zero = X(0)\n",
    "print places_above_zero"
   ]
  },
  {
   "cell_type": "code",
   "execution_count": 6,
   "metadata": {
    "collapsed": false
   },
   "outputs": [
    {
     "name": "stdout",
     "output_type": "stream",
     "text": [
      "Places:\n",
      "(2, RootOf(4*_y**3 - 15, 0))\n",
      "(2, RootOf(4*_y**3 - 15, 1))\n",
      "(2, RootOf(4*_y**3 - 15, 2))\n",
      "Puiseux:\n",
      "(t + 2, RootOf(4*_y**3 - 15, 0) + O(t**2))\n",
      "(t + 2, RootOf(4*_y**3 - 15, 1) + O(t**2))\n",
      "(t + 2, RootOf(4*_y**3 - 15, 2) + O(t**2))\n"
     ]
    }
   ],
   "source": [
    "print 'Places:'\n",
    "places_above_two = X(2)\n",
    "for P in places_above_two:\n",
    "    print P\n",
    "    \n",
    "print 'Puiseux:'\n",
    "series_at_two = puiseux(f,x,y,2)\n",
    "for p in series_at_two:\n",
    "    print p "
   ]
  },
  {
   "cell_type": "code",
   "execution_count": 7,
   "metadata": {
    "collapsed": false
   },
   "outputs": [
    {
     "name": "stdout",
     "output_type": "stream",
     "text": [
      "Divisor: (2, RootOf(4*_y**3 - 15, 0)) + 3(-t**3, -1/t**2 + O(1))\n",
      "Degree: 4\n"
     ]
    }
   ],
   "source": [
    "P = places_above_zero[0]\n",
    "Q = places_above_two[0]\n",
    "D = 3*P + Q\n",
    "\n",
    "print 'Divisor:', D\n",
    "print 'Degree:', D.degree"
   ]
  },
  {
   "cell_type": "code",
   "execution_count": 8,
   "metadata": {
    "collapsed": false
   },
   "outputs": [
    {
     "name": "stdout",
     "output_type": "stream",
     "text": [
      "(2, RootOf(4*_y**3 - 15, 0)) + (2, RootOf(4*_y**3 - 15, 2)) + (2, RootOf(4*_y**3 - 15, 1))\n"
     ]
    }
   ],
   "source": [
    "D2 = sum(places_above_two)\n",
    "print D2"
   ]
  },
  {
   "cell_type": "markdown",
   "metadata": {},
   "source": [
    "## The Abel Map\n",
    "\n",
    "Given a fixed *base place* $P_0 \\in X$, the Abel Map $A : X \\to J(X)$ is defined\n",
    "\n",
    "$$\n",
    "A(P) = \\left( \\int_{P_0}^P \\omega_1, \\ldots, \\int_{P_0}^P \\omega_g \\right)\n",
    "$$\n",
    "\n",
    "where the path of integration from $P_0$ to $P$ is the same for each Abelian differential of the first kind. The Abel map is linear over divisors. That is, if $\\mathcal{D} = \\sum_i n_iP_i$ then\n",
    "\n",
    "$$\n",
    "A(\\mathcal{D}) = \\sum_i n_i A(P_i).\n",
    "$$\n",
    "\n",
    "When we want to change or make the back point explicit we write $A(P_0,\\mathcal{D})$. Below we evaluate the Abel map at the places and divisors constructed above."
   ]
  },
  {
   "cell_type": "code",
   "execution_count": 9,
   "metadata": {
    "collapsed": false
   },
   "outputs": [
    {
     "name": "stdout",
     "output_type": "stream",
     "text": [
      "[-0.5261+0.0864j  0.0669+0.6392j -0.7495+1.1037j -1.5030+1.0356j]\n",
      "[-0.3875+0.1157j -0.0290+0.4437j -0.4532+0.7774j -0.9721+0.6732j]\n",
      "[ 0.1468-0.0985j  0.8467+0.6989j  0.0996+1.0083j -1.1003+0.8159j]\n",
      "6.48145569903e-16\n"
     ]
    }
   ],
   "source": [
    "J = Jacobian(X)   # reduces vectors modulo lattice ZZ^g + Omega ZZ^g\n",
    "z1 = AbelMap(P)   # Abel map from P0 to P\n",
    "z2 = AbelMap(Q)   # Abel map from P0 to Q\n",
    "z3 = AbelMap(P,Q) # Abel map from P to Q\n",
    "print z1\n",
    "print z2\n",
    "print z3\n",
    "\n",
    "# numerically verify that A(P,Q) = A(P0,Q) - A(P0,P)\n",
    "print numpy.linalg.norm( J((z2-z1) - z3) )"
   ]
  },
  {
   "cell_type": "code",
   "execution_count": 10,
   "metadata": {
    "collapsed": false
   },
   "outputs": [
    {
     "name": "stdout",
     "output_type": "stream",
     "text": [
      "[ 0.0670-0.1361j  0.9421+0.7429j -0.4887+0.7663j -1.5057+0.6992j]\n",
      "1.3608726004e-15\n"
     ]
    }
   ],
   "source": [
    "w = AbelMap(D)\n",
    "print w\n",
    "\n",
    "# verify that w = 3*z1 + z2 mod period lattice\n",
    "z = J(3*z1 + z2)\n",
    "print numpy.linalg.norm(w-z)"
   ]
  },
  {
   "cell_type": "markdown",
   "metadata": {},
   "source": [
    "## Canonical and Valuation Divisors\n",
    "\n",
    "Let $P = (x(t), y(t))$ be the Puiseux series representation of a place $P \\in X$. Given a meromorphic differential $\\nu$ we can write the \"localization of $\\nu$ at $P$\" as a Laurent series in the local parameter $t$:\n",
    "\n",
    "$$\n",
    "\\nu\\big|_P = (ct^n + \\cdots) dt.\n",
    "$$\n",
    "\n",
    "Then the \"valuation\" of $\\nu$ at $P$ is\n",
    "\n",
    "$$\n",
    "\\text{val}(\\nu,P) = n.\n",
    "$$\n",
    "\n",
    "The **valuation divisor** $(\\nu) \\in \\text{Div}(X)$ of $\\nu$ is the divisor\n",
    "\n",
    "$$\n",
    "(\\nu) = \\sum_{P \\in X} \\text{val}(\\nu,P) P.\n",
    "$$\n",
    "\n",
    "A divisor is **canonical** if and only if it's the valuation divisor of a *holomorphic* differential on $X$. All canonical divisors are of degree $2g-2$. Below, we compute a canonical divisor for each holmomrphic differential basis element $\\tilde{\\omega}_i$ and verify that their degree is $6$."
   ]
  },
  {
   "cell_type": "code",
   "execution_count": 11,
   "metadata": {
    "collapsed": false
   },
   "outputs": [
    {
     "name": "stdout",
     "output_type": "stream",
     "text": [
      "6 (t**(-3), t**(-2) + O(1))\n",
      "Degree: 6\n"
     ]
    }
   ],
   "source": [
    "C0 = omega[0].valuation_divisor()\n",
    "for place,multiplicity in C0:\n",
    "    print multiplicity, place\n",
    "print 'Degree:', C0.degree"
   ]
  },
  {
   "cell_type": "code",
   "execution_count": 12,
   "metadata": {
    "collapsed": false
   },
   "outputs": [
    {
     "name": "stdout",
     "output_type": "stream",
     "text": [
      "3 (-t**3, -1/t**2 + O(1))\n",
      "3 (t**(-3), t**(-2) + O(1))\n",
      "Degree: 6\n"
     ]
    }
   ],
   "source": [
    "C1 = omega[1].valuation_divisor()\n",
    "for place,multiplicity in C1:\n",
    "    print multiplicity, place   \n",
    "print 'Degree:', C1.degree"
   ]
  },
  {
   "cell_type": "code",
   "execution_count": 13,
   "metadata": {
    "collapsed": false
   },
   "outputs": [
    {
     "name": "stdout",
     "output_type": "stream",
     "text": [
      "1 (t**3/4 + 1, t + O(t**3))\n",
      "1 (-t**3*RootOf(_x**2 + 1, 0)/4 + RootOf(_x**2 + 1, 0), t + O(t**3))\n",
      "1 (-t**3/4 - 1, t + O(t**3))\n",
      "1 (t**(-3), t**(-2) + O(1))\n",
      "1 (-t**3, -1/t**2 + O(1))\n",
      "1 (-t**3*RootOf(_x**2 + 1, 1)/4 + RootOf(_x**2 + 1, 1), t + O(t**3))\n",
      "Degree: 6\n"
     ]
    }
   ],
   "source": [
    "C2 = omega[2].valuation_divisor()\n",
    "for place,multiplicity in C2:\n",
    "    print multiplicity, place\n",
    "print 'Degree:', C2.degree"
   ]
  },
  {
   "cell_type": "code",
   "execution_count": 14,
   "metadata": {
    "collapsed": false
   },
   "outputs": [
    {
     "name": "stdout",
     "output_type": "stream",
     "text": [
      "6 (-t**3, -1/t**2 + O(1))\n",
      "Degree: 6\n"
     ]
    }
   ],
   "source": [
    "C3 = omega[3].valuation_divisor()\n",
    "for place,multiplicity in C3:\n",
    "    print multiplicity, place\n",
    "print 'Degree:', C3.degree"
   ]
  },
  {
   "cell_type": "markdown",
   "metadata": {},
   "source": [
    "## Riemann Constant Vector\n",
    "\n",
    "The Riemann constant vector satisfies the following two theorems:\n",
    "\n",
    "**Theorem 1:** $\\mathcal{C}$ is a canonical divisor if any only if $K(P_0) \\equiv -A(P_0,\\mathcal{C})$.\n",
    "\n",
    "**Theorem 2:** $\\theta(W,\\Omega) = 0$ if and only if $W = A(P_0,\\mathcal{D}) + K(P_0)$ where $\\mathcal{D}$ is a degree $g-1$ divisor.\n",
    "\n",
    "We compute $K$ below and verify that these two theorems are satisfied."
   ]
  },
  {
   "cell_type": "code",
   "execution_count": 15,
   "metadata": {
    "collapsed": false
   },
   "outputs": [
    {
     "name": "stdout",
     "output_type": "stream",
     "text": [
      "[ 0.8488+0.7203j -0.5941-0.1146j -0.7432+0.8913j -0.8189+1.1381j]\n"
     ]
    }
   ],
   "source": [
    "K = RiemannConstantVector # alias the RCV function for brevity\n",
    "P0 = X.base_place()\n",
    "print K(P0)"
   ]
  },
  {
   "cell_type": "code",
   "execution_count": 16,
   "metadata": {
    "collapsed": false
   },
   "outputs": [
    {
     "name": "stdout",
     "output_type": "stream",
     "text": [
      "[ 0.+0.j -0.+0.j -0.+0.j  0.+0.j]\n"
     ]
    }
   ],
   "source": [
    "z = J(2*K(P0) + AbelMap(C3))\n",
    "print z"
   ]
  },
  {
   "cell_type": "code",
   "execution_count": 17,
   "metadata": {
    "collapsed": false
   },
   "outputs": [
    {
     "name": "stdout",
     "output_type": "stream",
     "text": [
      "2.59621137233e-08\n"
     ]
    }
   ],
   "source": [
    "W = K(P0)\n",
    "v = RiemannTheta.oscillatory_part(W,Omega)\n",
    "print abs(v)"
   ]
  },
  {
   "cell_type": "code",
   "execution_count": 18,
   "metadata": {
    "collapsed": false
   },
   "outputs": [
    {
     "name": "stdout",
     "output_type": "stream",
     "text": [
      "9.39107997133e-10\n"
     ]
    }
   ],
   "source": [
    "D = sum(places_above_two)\n",
    "W = J(AbelMap(D) + K(P0))\n",
    "v = RiemannTheta.oscillatory_part(W, Omega)\n",
    "print abs(v)"
   ]
  },
  {
   "cell_type": "markdown",
   "metadata": {},
   "source": [
    "Additional Code\n",
    "===============\n",
    "\n",
    "The following code generates Figure 1 in the paper \"Computing the Riemann Constant Vector\"."
   ]
  },
  {
   "cell_type": "code",
   "execution_count": 19,
   "metadata": {
    "collapsed": false
   },
   "outputs": [],
   "source": [
    "import matplotlib.pyplot as plt\n",
    "from abelfunctions.riemann_constant_vector import initialize_half_lattice_vectors"
   ]
  },
  {
   "cell_type": "code",
   "execution_count": 20,
   "metadata": {
    "collapsed": false
   },
   "outputs": [],
   "source": [
    "h = initialize_half_lattice_vectors(X)\n",
    "V = 0.5*AbelMap(C3)\n",
    "\n",
    "oscillatory_parts = [\n",
    "    RiemannTheta.oscillatory_part(J(hi.T-V),Omega)\n",
    "    for hi in h\n",
    "]\n",
    "oscillatory_magnitudes = sorted(map(abs,oscillatory_parts))"
   ]
  },
  {
   "cell_type": "code",
   "execution_count": 21,
   "metadata": {
    "collapsed": false
   },
   "outputs": [
    {
     "name": "stderr",
     "output_type": "stream",
     "text": [
      "/Users/cswiercz/anaconda/lib/python2.7/site-packages/matplotlib/figure.py:387: UserWarning: matplotlib is currently using a non-GUI backend, so cannot show the figure\n",
      "  \"matplotlib is currently using a non-GUI backend, \"\n"
     ]
    },
    {
     "data": {
      "image/png": "[encoded data removed]",
      "text/plain": [
       "<matplotlib.figure.Figure at 0x1095384d0>"
      ]
     },
     "metadata": {},
     "output_type": "display_data"
    }
   ],
   "source": [
    "%matplotlib inline\n",
    "\n",
    "fig = plt.figure()\n",
    "ax = fig.add_subplot(111)\n",
    "ax.semilogy(range(256), oscillatory_magnitudes,\n",
    "            linestyle='', marker='d',markerfacecolor='grey',markersize=8)\n",
    "ax.axis([-32,256+32,1e-9,10])\n",
    "ax.set_xticks([-32] + [32*k for k in range(10)])\n",
    "ax.set_xticklabels([''] + [str(32*k) for k in range(9)] + [''])\n",
    "ax.grid(True)\n",
    "fig.set_figwidth(9)\n",
    "fig.set_figheight(4)\n",
    "\n",
    "fig.show()"
   ]
  },
  {
   "cell_type": "code",
   "execution_count": null,
   "metadata": {
    "collapsed": true
   },
   "outputs": [],
   "source": []
  }
 ],
 "metadata": {
  "kernelspec": {
   "display_name": "Python 2",
   "language": "python",
   "name": "python2"
  },
  "language_info": {
   "codemirror_mode": {
    "name": "ipython",
    "version": 2
   },
   "file_extension": ".py",
   "mimetype": "text/x-python",
   "name": "python",
   "nbconvert_exporter": "python",
   "pygments_lexer": "ipython2",
   "version": "2.7.10"
  }
 },
 "nbformat": 4,
 "nbformat_minor": 0
}
